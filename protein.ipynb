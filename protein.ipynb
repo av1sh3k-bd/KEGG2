{
  "nbformat": 4,
  "nbformat_minor": 0,
  "metadata": {
    "colab": {
      "name": "protein.ipynb",
      "provenance": [],
      "authorship_tag": "ABX9TyOOpEUukKUL5Cx5Ae13q+4d",
      "include_colab_link": true
    },
    "kernelspec": {
      "name": "python3",
      "display_name": "Python 3"
    },
    "language_info": {
      "name": "python"
    }
  },
  "cells": [
    {
      "cell_type": "markdown",
      "metadata": {
        "id": "view-in-github",
        "colab_type": "text"
      },
      "source": [
        "<a href=\"https://colab.research.google.com/github/av1sh3k-bd/KEGG2/blob/main/protein.ipynb\" target=\"_parent\"><img src=\"https://colab.research.google.com/assets/colab-badge.svg\" alt=\"Open In Colab\"/></a>"
      ]
    },
    {
      "cell_type": "code",
      "source": [
        "import pandas as pd"
      ],
      "metadata": {
        "id": "7XQPL4MEEPdl"
      },
      "execution_count": null,
      "outputs": []
    },
    {
      "cell_type": "code",
      "execution_count": null,
      "metadata": {
        "id": "id4t2GrKDrJJ"
      },
      "outputs": [],
      "source": [
        "url= \"https://www.ncbi.nlm.nih.gov/genomes/solr2txt.cgi?q=%5Bdisplay()%5D.from(GenomeProteins).usingschema(%2Fschema%2FGenomeAssemblies).matching(genome_id%3D%3D%5B%22966%22%5D%20and%20genome_assembly_id%3D%3D%5B%221714364%22%5D)&fields=replicon_name%7CName%2Creplicon_accession%7CAccession%2Cstart%7CStart%2Cstop%7CStop%2Cstrand%7CStrand%2Cgene_id%7CGeneID%2Clocus%7CLocus%2Clocus_tag%7CLocus%20tag%2Caccession%7CProtein%20product%2Clength%7CLength%2Cname%7CProtein%20Name&filename=proteins_966_1714364.csv&nolimit=on\""
      ]
    },
    {
      "cell_type": "code",
      "source": [
        "df1 = pd.read_csv(url)\n",
        "df1.head()"
      ],
      "metadata": {
        "colab": {
          "base_uri": "https://localhost:8080/",
          "height": 206
        },
        "id": "YNBidlbVENMG",
        "outputId": "c6680eb1-edef-4daf-dff1-3a23fd2d3405"
      },
      "execution_count": null,
      "outputs": [
        {
          "output_type": "execute_result",
          "data": {
            "text/html": [
              "\n",
              "  <div id=\"df-d3d04865-a1f3-46b1-84b0-d308f33efb5b\">\n",
              "    <div class=\"colab-df-container\">\n",
              "      <div>\n",
              "<style scoped>\n",
              "    .dataframe tbody tr th:only-of-type {\n",
              "        vertical-align: middle;\n",
              "    }\n",
              "\n",
              "    .dataframe tbody tr th {\n",
              "        vertical-align: top;\n",
              "    }\n",
              "\n",
              "    .dataframe thead th {\n",
              "        text-align: right;\n",
              "    }\n",
              "</style>\n",
              "<table border=\"1\" class=\"dataframe\">\n",
              "  <thead>\n",
              "    <tr style=\"text-align: right;\">\n",
              "      <th></th>\n",
              "      <th>#Name</th>\n",
              "      <th>Accession</th>\n",
              "      <th>Start</th>\n",
              "      <th>Stop</th>\n",
              "      <th>Strand</th>\n",
              "      <th>GeneID</th>\n",
              "      <th>Locus</th>\n",
              "      <th>Locus tag</th>\n",
              "      <th>Protein product</th>\n",
              "      <th>Length</th>\n",
              "      <th>Protein Name</th>\n",
              "    </tr>\n",
              "  </thead>\n",
              "  <tbody>\n",
              "    <tr>\n",
              "      <th>0</th>\n",
              "      <td>chromosome</td>\n",
              "      <td>NZ_CP064940.1</td>\n",
              "      <td>151</td>\n",
              "      <td>3519</td>\n",
              "      <td>-</td>\n",
              "      <td>69505021</td>\n",
              "      <td>NaN</td>\n",
              "      <td>I1224_RS00005</td>\n",
              "      <td>WP_115503564.1</td>\n",
              "      <td>1122</td>\n",
              "      <td>discoidin domain-containing protein</td>\n",
              "    </tr>\n",
              "    <tr>\n",
              "      <th>1</th>\n",
              "      <td>chromosome</td>\n",
              "      <td>NZ_CP064940.1</td>\n",
              "      <td>3703</td>\n",
              "      <td>5850</td>\n",
              "      <td>-</td>\n",
              "      <td>69505022</td>\n",
              "      <td>scpA</td>\n",
              "      <td>I1224_RS00010</td>\n",
              "      <td>WP_007659955.1</td>\n",
              "      <td>715</td>\n",
              "      <td>MULTISPECIES: methylmalonyl-CoA mutase</td>\n",
              "    </tr>\n",
              "    <tr>\n",
              "      <th>2</th>\n",
              "      <td>chromosome</td>\n",
              "      <td>NZ_CP064940.1</td>\n",
              "      <td>5852</td>\n",
              "      <td>7711</td>\n",
              "      <td>-</td>\n",
              "      <td>69505023</td>\n",
              "      <td>mutA</td>\n",
              "      <td>I1224_RS00015</td>\n",
              "      <td>WP_021967550.1</td>\n",
              "      <td>619</td>\n",
              "      <td>MULTISPECIES: methylmalonyl-CoA mutase small s...</td>\n",
              "    </tr>\n",
              "    <tr>\n",
              "      <th>3</th>\n",
              "      <td>chromosome</td>\n",
              "      <td>NZ_CP064940.1</td>\n",
              "      <td>8066</td>\n",
              "      <td>9727</td>\n",
              "      <td>+</td>\n",
              "      <td>69505024</td>\n",
              "      <td>NaN</td>\n",
              "      <td>I1224_RS00020</td>\n",
              "      <td>WP_021967551.1</td>\n",
              "      <td>553</td>\n",
              "      <td>MULTISPECIES: putative transporter</td>\n",
              "    </tr>\n",
              "    <tr>\n",
              "      <th>4</th>\n",
              "      <td>chromosome</td>\n",
              "      <td>NZ_CP064940.1</td>\n",
              "      <td>9921</td>\n",
              "      <td>10547</td>\n",
              "      <td>-</td>\n",
              "      <td>69505025</td>\n",
              "      <td>NaN</td>\n",
              "      <td>I1224_RS00025</td>\n",
              "      <td>WP_007659959.1</td>\n",
              "      <td>208</td>\n",
              "      <td>MULTISPECIES: cytidylate kinase-like family pr...</td>\n",
              "    </tr>\n",
              "  </tbody>\n",
              "</table>\n",
              "</div>\n",
              "      <button class=\"colab-df-convert\" onclick=\"convertToInteractive('df-d3d04865-a1f3-46b1-84b0-d308f33efb5b')\"\n",
              "              title=\"Convert this dataframe to an interactive table.\"\n",
              "              style=\"display:none;\">\n",
              "        \n",
              "  <svg xmlns=\"http://www.w3.org/2000/svg\" height=\"24px\"viewBox=\"0 0 24 24\"\n",
              "       width=\"24px\">\n",
              "    <path d=\"M0 0h24v24H0V0z\" fill=\"none\"/>\n",
              "    <path d=\"M18.56 5.44l.94 2.06.94-2.06 2.06-.94-2.06-.94-.94-2.06-.94 2.06-2.06.94zm-11 1L8.5 8.5l.94-2.06 2.06-.94-2.06-.94L8.5 2.5l-.94 2.06-2.06.94zm10 10l.94 2.06.94-2.06 2.06-.94-2.06-.94-.94-2.06-.94 2.06-2.06.94z\"/><path d=\"M17.41 7.96l-1.37-1.37c-.4-.4-.92-.59-1.43-.59-.52 0-1.04.2-1.43.59L10.3 9.45l-7.72 7.72c-.78.78-.78 2.05 0 2.83L4 21.41c.39.39.9.59 1.41.59.51 0 1.02-.2 1.41-.59l7.78-7.78 2.81-2.81c.8-.78.8-2.07 0-2.86zM5.41 20L4 18.59l7.72-7.72 1.47 1.35L5.41 20z\"/>\n",
              "  </svg>\n",
              "      </button>\n",
              "      \n",
              "  <style>\n",
              "    .colab-df-container {\n",
              "      display:flex;\n",
              "      flex-wrap:wrap;\n",
              "      gap: 12px;\n",
              "    }\n",
              "\n",
              "    .colab-df-convert {\n",
              "      background-color: #E8F0FE;\n",
              "      border: none;\n",
              "      border-radius: 50%;\n",
              "      cursor: pointer;\n",
              "      display: none;\n",
              "      fill: #1967D2;\n",
              "      height: 32px;\n",
              "      padding: 0 0 0 0;\n",
              "      width: 32px;\n",
              "    }\n",
              "\n",
              "    .colab-df-convert:hover {\n",
              "      background-color: #E2EBFA;\n",
              "      box-shadow: 0px 1px 2px rgba(60, 64, 67, 0.3), 0px 1px 3px 1px rgba(60, 64, 67, 0.15);\n",
              "      fill: #174EA6;\n",
              "    }\n",
              "\n",
              "    [theme=dark] .colab-df-convert {\n",
              "      background-color: #3B4455;\n",
              "      fill: #D2E3FC;\n",
              "    }\n",
              "\n",
              "    [theme=dark] .colab-df-convert:hover {\n",
              "      background-color: #434B5C;\n",
              "      box-shadow: 0px 1px 3px 1px rgba(0, 0, 0, 0.15);\n",
              "      filter: drop-shadow(0px 1px 2px rgba(0, 0, 0, 0.3));\n",
              "      fill: #FFFFFF;\n",
              "    }\n",
              "  </style>\n",
              "\n",
              "      <script>\n",
              "        const buttonEl =\n",
              "          document.querySelector('#df-d3d04865-a1f3-46b1-84b0-d308f33efb5b button.colab-df-convert');\n",
              "        buttonEl.style.display =\n",
              "          google.colab.kernel.accessAllowed ? 'block' : 'none';\n",
              "\n",
              "        async function convertToInteractive(key) {\n",
              "          const element = document.querySelector('#df-d3d04865-a1f3-46b1-84b0-d308f33efb5b');\n",
              "          const dataTable =\n",
              "            await google.colab.kernel.invokeFunction('convertToInteractive',\n",
              "                                                     [key], {});\n",
              "          if (!dataTable) return;\n",
              "\n",
              "          const docLinkHtml = 'Like what you see? Visit the ' +\n",
              "            '<a target=\"_blank\" href=https://colab.research.google.com/notebooks/data_table.ipynb>data table notebook</a>'\n",
              "            + ' to learn more about interactive tables.';\n",
              "          element.innerHTML = '';\n",
              "          dataTable['output_type'] = 'display_data';\n",
              "          await google.colab.output.renderOutput(dataTable, element);\n",
              "          const docLink = document.createElement('div');\n",
              "          docLink.innerHTML = docLinkHtml;\n",
              "          element.appendChild(docLink);\n",
              "        }\n",
              "      </script>\n",
              "    </div>\n",
              "  </div>\n",
              "  "
            ],
            "text/plain": [
              "        #Name  ...                                       Protein Name\n",
              "0  chromosome  ...                discoidin domain-containing protein\n",
              "1  chromosome  ...             MULTISPECIES: methylmalonyl-CoA mutase\n",
              "2  chromosome  ...  MULTISPECIES: methylmalonyl-CoA mutase small s...\n",
              "3  chromosome  ...                 MULTISPECIES: putative transporter\n",
              "4  chromosome  ...  MULTISPECIES: cytidylate kinase-like family pr...\n",
              "\n",
              "[5 rows x 11 columns]"
            ]
          },
          "metadata": {},
          "execution_count": 8
        }
      ]
    },
    {
      "cell_type": "code",
      "source": [
        "protein_list = df1['Protein Name'].tolist()\n",
        "protein_list[:5]"
      ],
      "metadata": {
        "colab": {
          "base_uri": "https://localhost:8080/"
        },
        "id": "Gbw9KxF-EoZO",
        "outputId": "149f3925-931a-4e01-f1dc-12147a8bb9ac"
      },
      "execution_count": null,
      "outputs": [
        {
          "output_type": "execute_result",
          "data": {
            "text/plain": [
              "['discoidin domain-containing protein',\n",
              " 'MULTISPECIES: methylmalonyl-CoA mutase',\n",
              " 'MULTISPECIES: methylmalonyl-CoA mutase small subunit',\n",
              " 'MULTISPECIES: putative transporter',\n",
              " 'MULTISPECIES: cytidylate kinase-like family protein']"
            ]
          },
          "metadata": {},
          "execution_count": 15
        }
      ]
    },
    {
      "cell_type": "code",
      "source": [
        "protein_nn_list=[]\n",
        "for names in protein_list:\n",
        "  nn=names.replace(\"MULTISPECIES: \", \"\")\n",
        "  if nn=='hypothetical protein':\n",
        "    continue\n",
        "  else:\n",
        "    protein_nn_list.append(nn)\n",
        "protein_nn_list"
      ],
      "metadata": {
        "id": "2Cu0KlgBE7Xy"
      },
      "execution_count": null,
      "outputs": []
    },
    {
      "cell_type": "code",
      "source": [
        "!pip install Bio"
      ],
      "metadata": {
        "id": "CHoOFOrMF0JW"
      },
      "execution_count": null,
      "outputs": []
    },
    {
      "cell_type": "code",
      "source": [
        "!pip install Biopython"
      ],
      "metadata": {
        "colab": {
          "base_uri": "https://localhost:8080/"
        },
        "id": "KbeQMQxnN4qH",
        "outputId": "fa99a9fc-1449-483c-beee-791d517159e3"
      },
      "execution_count": 30,
      "outputs": [
        {
          "output_type": "stream",
          "name": "stdout",
          "text": [
            "Requirement already satisfied: Biopython in /usr/local/lib/python3.7/dist-packages (1.79)\n",
            "Requirement already satisfied: numpy in /usr/local/lib/python3.7/dist-packages (from Biopython) (1.21.5)\n"
          ]
        }
      ]
    },
    {
      "cell_type": "code",
      "source": [
        "# Show plots as part of the notebook\n",
        "%matplotlib inline\n",
        "\n",
        "# Show images inline\n",
        "from IPython.display import Image\n",
        "\n",
        "# Standard library packages\n",
        "import io\n",
        "import os\n",
        "\n",
        "# Import Biopython modules to interact with KEGG\n",
        "from Bio import SeqIO\n",
        "from Bio.KEGG import REST\n",
        "from Bio.KEGG.KGML import KGML_parser"
      ],
      "metadata": {
        "id": "mEIf7rpyN_cP"
      },
      "execution_count": 31,
      "outputs": []
    },
    {
      "cell_type": "code",
      "source": [
        "# Some code to return a Pandas dataframe, given tabular text\n",
        "def to_df(result):\n",
        "    return pd.read_table(io.StringIO(result), header=None)"
      ],
      "metadata": {
        "id": "QEDGmihbOH-1"
      },
      "execution_count": 33,
      "outputs": []
    },
    {
      "cell_type": "code",
      "source": [
        "!pip install beautifulsoup4"
      ],
      "metadata": {
        "colab": {
          "base_uri": "https://localhost:8080/"
        },
        "id": "64_0W2RkTph8",
        "outputId": "dbfd86ed-eb05-4e4e-c3ce-ef09ebee377f"
      },
      "execution_count": 35,
      "outputs": [
        {
          "output_type": "stream",
          "name": "stdout",
          "text": [
            "Requirement already satisfied: beautifulsoup4 in /usr/local/lib/python3.7/dist-packages (4.6.3)\n"
          ]
        }
      ]
    },
    {
      "cell_type": "code",
      "source": [
        "from urllib.request import urlopen\n",
        "from bs4 import BeautifulSoup"
      ],
      "metadata": {
        "id": "vIgIOQ4QTsn8"
      },
      "execution_count": 36,
      "outputs": []
    },
    {
      "cell_type": "code",
      "source": [
        "import re"
      ],
      "metadata": {
        "id": "22P3vTdpTuyU"
      },
      "execution_count": 37,
      "outputs": []
    },
    {
      "cell_type": "code",
      "source": [
        "# specify the url\n",
        "url = \"https://www.genome.jp/pathway/bit01100+M00793\"\n",
        "\n",
        "# Connect to the website and return the html to the variable ‘page’\n",
        "try:\n",
        "    page = urlopen(url)\n",
        "except:\n",
        "    print(\"Error opening the URL\")\n",
        "\n",
        "# parse the html using beautiful soup and store in variable `soup`\n",
        "soup = BeautifulSoup(page, 'html.parser')\n",
        "\n",
        "# Take out the <div> of name and get its value\n",
        "content = soup.find('ul', {\"class\": \"tree module-tree\"})\n",
        "#print(content)\n",
        "content=str(content)"
      ],
      "metadata": {
        "id": "e4rtHioATxeF"
      },
      "execution_count": 38,
      "outputs": []
    },
    {
      "cell_type": "code",
      "source": [
        "# Python program to convert a list to string\n",
        "    \n",
        "# Function to convert  \n",
        "def listToString(s): \n",
        "    \n",
        "    # initialize an empty string\n",
        "    str1 = \"\" \n",
        "    \n",
        "    # traverse in the string  \n",
        "    for ele in s: \n",
        "        str1 += ele  \n",
        "    \n",
        "    # return string  \n",
        "    return str1 "
      ],
      "metadata": {
        "id": "ibAssZmLT2L0"
      },
      "execution_count": 39,
      "outputs": []
    },
    {
      "cell_type": "code",
      "source": [
        "#pattern=re.compile(r'k\">M\\w\\w\\w\\w\\w')\n",
        "\n",
        "#pattern=re.compile(r'blank\">M00001</a>\\s*(\\w*)')\n",
        "\n",
        "pattern=re.compile(r'>M\\w\\w\\w\\w\\w</a>\\s*[a-zA-Z\\s\\(\\)\\-]*')\n",
        "\n",
        "\n",
        "matches=pattern.findall(content)\n",
        "\n",
        "matches=listToString(matches)\n",
        "\n",
        "\n",
        "pattern2=re.compile(r'M\\d\\d\\d\\d\\d')\n",
        "\n",
        "map_ids=pattern2.findall(matches)\n",
        "\n",
        "print(map_ids)"
      ],
      "metadata": {
        "colab": {
          "base_uri": "https://localhost:8080/"
        },
        "id": "RbX4Gc_ST59V",
        "outputId": "1acd7dab-9ecb-4f64-c2d2-93aac9995368"
      },
      "execution_count": 40,
      "outputs": [
        {
          "output_type": "stream",
          "name": "stdout",
          "text": [
            "['M00001', 'M00002', 'M00003', 'M00307', 'M00009', 'M00010', 'M00011', 'M00004', 'M00006', 'M00007', 'M00580', 'M00005', 'M00008', 'M00308', 'M00633', 'M00309', 'M00014', 'M00630', 'M00631', 'M00061', 'M00081', 'M00632', 'M00552', 'M00129', 'M00114', 'M00550', 'M00854', 'M00855', 'M00565', 'M00549', 'M00554', 'M00909', 'M00761', 'M00012', 'M00373', 'M00740', 'M00532', 'M00013', 'M00741', 'M00130', 'M00131', 'M00132', 'M00165', 'M00166', 'M00167', 'M00168', 'M00169', 'M00172', 'M00171', 'M00170', 'M00173', 'M00376', 'M00375', 'M00374', 'M00377', 'M00579', 'M00620', 'M00567', 'M00357', 'M00356', 'M00563', 'M00358', 'M00608', 'M00174', 'M00346', 'M00345', 'M00344', 'M00378', 'M00935', 'M00422', 'M00175', 'M00531', 'M00530', 'M00529', 'M00528', 'M00804', 'M00176', 'M00596', 'M00595', 'M00082', 'M00083', 'M00873', 'M00874', 'M00085', 'M00415', 'M00086', 'M00087', 'M00861', 'M00101', 'M00102', 'M00917', 'M00103', 'M00104', 'M00106', 'M00862', 'M00107', 'M00108', 'M00109', 'M00110', 'M00088', 'M00089', 'M00098', 'M00090', 'M00091', 'M00092', 'M00093', 'M00094', 'M00066', 'M00067', 'M00099', 'M00100', 'M00113', 'M00048', 'M00049', 'M00050', 'M00546', 'M00051', 'M00052', 'M00053', 'M00938', 'M00046', 'M00939', 'M00020', 'M00018', 'M00555', 'M00033', 'M00919', 'M00021', 'M00338', 'M00609', 'M00017', 'M00034', 'M00035', 'M00368', 'M00019', 'M00535', 'M00570', 'M00432', 'M00036', 'M00016', 'M00525', 'M00526', 'M00527', 'M00030', 'M00433', 'M00031', 'M00032', 'M00028', 'M00763', 'M00844', 'M00845', 'M00029', 'M00015', 'M00047', 'M00879', 'M00133', 'M00134', 'M00135', 'M00136', 'M00026', 'M00045', 'M00022', 'M00023', 'M00024', 'M00910', 'M00025', 'M00040', 'M00042', 'M00043', 'M00044', 'M00533', 'M00037', 'M00936', 'M00038', 'M00027', 'M00369', 'M00118', 'M00947', 'M00948', 'M00949', 'M00055', 'M00072', 'M00073', 'M00074', 'M00075', 'M00056', 'M00872', 'M00065', 'M00070', 'M00071', 'M00068', 'M00069', 'M00057', 'M00058', 'M00059', 'M00076', 'M00077', 'M00078', 'M00079', 'M00060', 'M00866', 'M00867', 'M00063', 'M00064', 'M00922', 'M00923', 'M00127', 'M00895', 'M00896', 'M00897', 'M00898', 'M00899', 'M00125', 'M00911', 'M00124', 'M00916', 'M00115', 'M00912', 'M00810', 'M00811', 'M00622', 'M00119', 'M00913', 'M00120', 'M00914', 'M00572', 'M00123', 'M00950', 'M00573', 'M00577', 'M00881', 'M00882', 'M00883', 'M00884', 'M00126', 'M00840', 'M00841', 'M00842', 'M00843', 'M00880', 'M00140', 'M00846', 'M00868', 'M00121', 'M00926', 'M00847', 'M00924', 'M00925', 'M00122', 'M00836', 'M00117', 'M00128', 'M00116', 'M00930', 'M00931', 'M00932', 'M00112', 'M00933', 'M00095', 'M00849', 'M00096', 'M00364', 'M00097', 'M00372', 'M00371', 'M00927', 'M00928', 'M00929', 'M00773', 'M00934', 'M00774', 'M00775', 'M00776', 'M00777', 'M00824', 'M00825', 'M00826', 'M00827', 'M00828', 'M00829', 'M00830', 'M00831', 'M00832', 'M00834', 'M00833', 'M00778', 'M00779', 'M00780', 'M00823', 'M00781', 'M00782', 'M00783', 'M00784', 'M00793', 'M00794', 'M00795', 'M00796', 'M00797', 'M00798', 'M00799', 'M00800', 'M00801', 'M00802', 'M00803', 'M00039', 'M00137', 'M00940', 'M00138', 'M00941', 'M00942', 'M00943', 'M00944', 'M00945', 'M00946', 'M00370', 'M00900', 'M00894', 'M00902', 'M00672', 'M00673', 'M00675', 'M00736', 'M00674', 'M00877', 'M00889', 'M00815', 'M00904', 'M00785', 'M00787', 'M00848', 'M00788', 'M00819', 'M00903', 'M00890', 'M00661', 'M00786', 'M00937', 'M00893', 'M00891', 'M00901', 'M00814', 'M00789', 'M00790', 'M00805', 'M00808', 'M00835', 'M00837', 'M00838', 'M00921', 'M00905', 'M00876', 'M00875', 'M00918', 'M00906', 'M00538', 'M00537', 'M00419', 'M00547', 'M00548', 'M00551', 'M00637', 'M00568', 'M00569', 'M00539', 'M00543', 'M00544', 'M00418', 'M00541', 'M00540', 'M00534', 'M00638', 'M00624', 'M00623', 'M00636', 'M00878', 'M00545', 'M00915']\n"
          ]
        }
      ]
    },
    {
      "cell_type": "code",
      "source": [
        "#iterating over map ids to get ec ids\n",
        "result=\"\"\n",
        "for ids in map_ids:\n",
        "  result = result+REST.kegg_link(\"ec\", ids).read()"
      ],
      "metadata": {
        "id": "GbgZv5K_acxm"
      },
      "execution_count": 92,
      "outputs": []
    },
    {
      "cell_type": "code",
      "source": [
        "df1=to_df(result)\n",
        "df1=df1.rename(columns={0: 'map id', 1: 'ec id'})\n",
        "df1.head()"
      ],
      "metadata": {
        "colab": {
          "base_uri": "https://localhost:8080/",
          "height": 206
        },
        "id": "MWIdsp-tb0S_",
        "outputId": "2dc7ef89-185c-49f8-8922-edfe7a2e27d6"
      },
      "execution_count": 96,
      "outputs": [
        {
          "output_type": "execute_result",
          "data": {
            "text/html": [
              "\n",
              "  <div id=\"df-5a2a6372-1ada-4e83-bb8b-be1ca2fa1c99\">\n",
              "    <div class=\"colab-df-container\">\n",
              "      <div>\n",
              "<style scoped>\n",
              "    .dataframe tbody tr th:only-of-type {\n",
              "        vertical-align: middle;\n",
              "    }\n",
              "\n",
              "    .dataframe tbody tr th {\n",
              "        vertical-align: top;\n",
              "    }\n",
              "\n",
              "    .dataframe thead th {\n",
              "        text-align: right;\n",
              "    }\n",
              "</style>\n",
              "<table border=\"1\" class=\"dataframe\">\n",
              "  <thead>\n",
              "    <tr style=\"text-align: right;\">\n",
              "      <th></th>\n",
              "      <th>map id</th>\n",
              "      <th>ec id</th>\n",
              "    </tr>\n",
              "  </thead>\n",
              "  <tbody>\n",
              "    <tr>\n",
              "      <th>0</th>\n",
              "      <td>md:M00001</td>\n",
              "      <td>ec:2.7.1.1</td>\n",
              "    </tr>\n",
              "    <tr>\n",
              "      <th>1</th>\n",
              "      <td>md:M00001</td>\n",
              "      <td>ec:2.7.1.2</td>\n",
              "    </tr>\n",
              "    <tr>\n",
              "      <th>2</th>\n",
              "      <td>md:M00001</td>\n",
              "      <td>ec:2.7.1.63</td>\n",
              "    </tr>\n",
              "    <tr>\n",
              "      <th>3</th>\n",
              "      <td>md:M00001</td>\n",
              "      <td>ec:2.7.1.147</td>\n",
              "    </tr>\n",
              "    <tr>\n",
              "      <th>4</th>\n",
              "      <td>md:M00001</td>\n",
              "      <td>ec:2.7.1.146</td>\n",
              "    </tr>\n",
              "  </tbody>\n",
              "</table>\n",
              "</div>\n",
              "      <button class=\"colab-df-convert\" onclick=\"convertToInteractive('df-5a2a6372-1ada-4e83-bb8b-be1ca2fa1c99')\"\n",
              "              title=\"Convert this dataframe to an interactive table.\"\n",
              "              style=\"display:none;\">\n",
              "        \n",
              "  <svg xmlns=\"http://www.w3.org/2000/svg\" height=\"24px\"viewBox=\"0 0 24 24\"\n",
              "       width=\"24px\">\n",
              "    <path d=\"M0 0h24v24H0V0z\" fill=\"none\"/>\n",
              "    <path d=\"M18.56 5.44l.94 2.06.94-2.06 2.06-.94-2.06-.94-.94-2.06-.94 2.06-2.06.94zm-11 1L8.5 8.5l.94-2.06 2.06-.94-2.06-.94L8.5 2.5l-.94 2.06-2.06.94zm10 10l.94 2.06.94-2.06 2.06-.94-2.06-.94-.94-2.06-.94 2.06-2.06.94z\"/><path d=\"M17.41 7.96l-1.37-1.37c-.4-.4-.92-.59-1.43-.59-.52 0-1.04.2-1.43.59L10.3 9.45l-7.72 7.72c-.78.78-.78 2.05 0 2.83L4 21.41c.39.39.9.59 1.41.59.51 0 1.02-.2 1.41-.59l7.78-7.78 2.81-2.81c.8-.78.8-2.07 0-2.86zM5.41 20L4 18.59l7.72-7.72 1.47 1.35L5.41 20z\"/>\n",
              "  </svg>\n",
              "      </button>\n",
              "      \n",
              "  <style>\n",
              "    .colab-df-container {\n",
              "      display:flex;\n",
              "      flex-wrap:wrap;\n",
              "      gap: 12px;\n",
              "    }\n",
              "\n",
              "    .colab-df-convert {\n",
              "      background-color: #E8F0FE;\n",
              "      border: none;\n",
              "      border-radius: 50%;\n",
              "      cursor: pointer;\n",
              "      display: none;\n",
              "      fill: #1967D2;\n",
              "      height: 32px;\n",
              "      padding: 0 0 0 0;\n",
              "      width: 32px;\n",
              "    }\n",
              "\n",
              "    .colab-df-convert:hover {\n",
              "      background-color: #E2EBFA;\n",
              "      box-shadow: 0px 1px 2px rgba(60, 64, 67, 0.3), 0px 1px 3px 1px rgba(60, 64, 67, 0.15);\n",
              "      fill: #174EA6;\n",
              "    }\n",
              "\n",
              "    [theme=dark] .colab-df-convert {\n",
              "      background-color: #3B4455;\n",
              "      fill: #D2E3FC;\n",
              "    }\n",
              "\n",
              "    [theme=dark] .colab-df-convert:hover {\n",
              "      background-color: #434B5C;\n",
              "      box-shadow: 0px 1px 3px 1px rgba(0, 0, 0, 0.15);\n",
              "      filter: drop-shadow(0px 1px 2px rgba(0, 0, 0, 0.3));\n",
              "      fill: #FFFFFF;\n",
              "    }\n",
              "  </style>\n",
              "\n",
              "      <script>\n",
              "        const buttonEl =\n",
              "          document.querySelector('#df-5a2a6372-1ada-4e83-bb8b-be1ca2fa1c99 button.colab-df-convert');\n",
              "        buttonEl.style.display =\n",
              "          google.colab.kernel.accessAllowed ? 'block' : 'none';\n",
              "\n",
              "        async function convertToInteractive(key) {\n",
              "          const element = document.querySelector('#df-5a2a6372-1ada-4e83-bb8b-be1ca2fa1c99');\n",
              "          const dataTable =\n",
              "            await google.colab.kernel.invokeFunction('convertToInteractive',\n",
              "                                                     [key], {});\n",
              "          if (!dataTable) return;\n",
              "\n",
              "          const docLinkHtml = 'Like what you see? Visit the ' +\n",
              "            '<a target=\"_blank\" href=https://colab.research.google.com/notebooks/data_table.ipynb>data table notebook</a>'\n",
              "            + ' to learn more about interactive tables.';\n",
              "          element.innerHTML = '';\n",
              "          dataTable['output_type'] = 'display_data';\n",
              "          await google.colab.output.renderOutput(dataTable, element);\n",
              "          const docLink = document.createElement('div');\n",
              "          docLink.innerHTML = docLinkHtml;\n",
              "          element.appendChild(docLink);\n",
              "        }\n",
              "      </script>\n",
              "    </div>\n",
              "  </div>\n",
              "  "
            ],
            "text/plain": [
              "      map id         ec id\n",
              "0  md:M00001    ec:2.7.1.1\n",
              "1  md:M00001    ec:2.7.1.2\n",
              "2  md:M00001   ec:2.7.1.63\n",
              "3  md:M00001  ec:2.7.1.147\n",
              "4  md:M00001  ec:2.7.1.146"
            ]
          },
          "metadata": {},
          "execution_count": 96
        }
      ]
    }
  ]
}