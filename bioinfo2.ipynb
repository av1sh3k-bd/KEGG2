{
  "nbformat": 4,
  "nbformat_minor": 0,
  "metadata": {
    "colab": {
      "name": "bioinfo.ipynb",
      "provenance": [],
      "authorship_tag": "ABX9TyO0GBgbApBSEsr7FUkzJlkk",
      "include_colab_link": true
    },
    "kernelspec": {
      "name": "python3",
      "display_name": "Python 3"
    },
    "language_info": {
      "name": "python"
    }
  },
  "cells": [
    {
      "cell_type": "markdown",
      "metadata": {
        "id": "view-in-github",
        "colab_type": "text"
      },
      "source": [
        "<a href=\"https://colab.research.google.com/github/av1sh3k-bd/KEGG2/blob/main/bioinfo2.ipynb\" target=\"_parent\"><img src=\"https://colab.research.google.com/assets/colab-badge.svg\" alt=\"Open In Colab\"/></a>"
      ]
    },
    {
      "cell_type": "code",
      "metadata": {
        "id": "w4PHASyGU8eQ",
        "colab": {
          "base_uri": "https://localhost:8080/"
        },
        "outputId": "2973efbd-15b5-4860-fde3-15d4dae55c14"
      },
      "source": [
        "!pip install Bio\n"
      ],
      "execution_count": 1,
      "outputs": [
        {
          "output_type": "stream",
          "name": "stdout",
          "text": [
            "Collecting Bio\n",
            "  Downloading bio-1.3.2-py3-none-any.whl (272 kB)\n",
            "\u001b[?25l\r\u001b[K     |█▏                              | 10 kB 24.7 MB/s eta 0:00:01\r\u001b[K     |██▍                             | 20 kB 28.6 MB/s eta 0:00:01\r\u001b[K     |███▋                            | 30 kB 32.4 MB/s eta 0:00:01\r\u001b[K     |████▉                           | 40 kB 35.3 MB/s eta 0:00:01\r\u001b[K     |██████                          | 51 kB 29.4 MB/s eta 0:00:01\r\u001b[K     |███████▎                        | 61 kB 28.6 MB/s eta 0:00:01\r\u001b[K     |████████▍                       | 71 kB 26.3 MB/s eta 0:00:01\r\u001b[K     |█████████▋                      | 81 kB 26.2 MB/s eta 0:00:01\r\u001b[K     |██████████▉                     | 92 kB 26.8 MB/s eta 0:00:01\r\u001b[K     |████████████                    | 102 kB 28.3 MB/s eta 0:00:01\r\u001b[K     |█████████████▎                  | 112 kB 28.3 MB/s eta 0:00:01\r\u001b[K     |██████████████▌                 | 122 kB 28.3 MB/s eta 0:00:01\r\u001b[K     |███████████████▋                | 133 kB 28.3 MB/s eta 0:00:01\r\u001b[K     |████████████████▉               | 143 kB 28.3 MB/s eta 0:00:01\r\u001b[K     |██████████████████              | 153 kB 28.3 MB/s eta 0:00:01\r\u001b[K     |███████████████████▎            | 163 kB 28.3 MB/s eta 0:00:01\r\u001b[K     |████████████████████▌           | 174 kB 28.3 MB/s eta 0:00:01\r\u001b[K     |█████████████████████▊          | 184 kB 28.3 MB/s eta 0:00:01\r\u001b[K     |██████████████████████▉         | 194 kB 28.3 MB/s eta 0:00:01\r\u001b[K     |████████████████████████        | 204 kB 28.3 MB/s eta 0:00:01\r\u001b[K     |█████████████████████████▎      | 215 kB 28.3 MB/s eta 0:00:01\r\u001b[K     |██████████████████████████▌     | 225 kB 28.3 MB/s eta 0:00:01\r\u001b[K     |███████████████████████████▊    | 235 kB 28.3 MB/s eta 0:00:01\r\u001b[K     |█████████████████████████████   | 245 kB 28.3 MB/s eta 0:00:01\r\u001b[K     |██████████████████████████████▏ | 256 kB 28.3 MB/s eta 0:00:01\r\u001b[K     |███████████████████████████████▎| 266 kB 28.3 MB/s eta 0:00:01\r\u001b[K     |████████████████████████████████| 272 kB 28.3 MB/s \n",
            "\u001b[?25hRequirement already satisfied: requests in /usr/local/lib/python3.7/dist-packages (from Bio) (2.23.0)\n",
            "Requirement already satisfied: tqdm in /usr/local/lib/python3.7/dist-packages (from Bio) (4.62.3)\n",
            "Collecting biopython>=1.79\n",
            "  Downloading biopython-1.79-cp37-cp37m-manylinux_2_5_x86_64.manylinux1_x86_64.whl (2.3 MB)\n",
            "\u001b[K     |████████████████████████████████| 2.3 MB 48.6 MB/s \n",
            "\u001b[?25hCollecting mygene\n",
            "  Downloading mygene-3.2.2-py2.py3-none-any.whl (5.4 kB)\n",
            "Requirement already satisfied: numpy in /usr/local/lib/python3.7/dist-packages (from biopython>=1.79->Bio) (1.19.5)\n",
            "Collecting biothings-client>=0.2.6\n",
            "  Downloading biothings_client-0.2.6-py2.py3-none-any.whl (37 kB)\n",
            "Requirement already satisfied: urllib3!=1.25.0,!=1.25.1,<1.26,>=1.21.1 in /usr/local/lib/python3.7/dist-packages (from requests->Bio) (1.24.3)\n",
            "Requirement already satisfied: certifi>=2017.4.17 in /usr/local/lib/python3.7/dist-packages (from requests->Bio) (2021.10.8)\n",
            "Requirement already satisfied: chardet<4,>=3.0.2 in /usr/local/lib/python3.7/dist-packages (from requests->Bio) (3.0.4)\n",
            "Requirement already satisfied: idna<3,>=2.5 in /usr/local/lib/python3.7/dist-packages (from requests->Bio) (2.10)\n",
            "Installing collected packages: biothings-client, mygene, biopython, Bio\n",
            "Successfully installed Bio-1.3.2 biopython-1.79 biothings-client-0.2.6 mygene-3.2.2\n"
          ]
        }
      ]
    },
    {
      "cell_type": "code",
      "metadata": {
        "id": "d_IMqe0TVJtW",
        "colab": {
          "base_uri": "https://localhost:8080/"
        },
        "outputId": "74aea51a-a829-436a-fce8-8a39ef4886dc"
      },
      "source": [
        "!pip install Biopython\n",
        "\n"
      ],
      "execution_count": 2,
      "outputs": [
        {
          "output_type": "stream",
          "name": "stdout",
          "text": [
            "Requirement already satisfied: Biopython in /usr/local/lib/python3.7/dist-packages (1.79)\n",
            "Requirement already satisfied: numpy in /usr/local/lib/python3.7/dist-packages (from Biopython) (1.19.5)\n"
          ]
        }
      ]
    },
    {
      "cell_type": "code",
      "metadata": {
        "id": "Z10n3Efv4qM4"
      },
      "source": [
        "# Show plots as part of the notebook\n",
        "%matplotlib inline\n",
        "\n",
        "# Show images inline\n",
        "from IPython.display import Image\n",
        "\n",
        "# Standard library packages\n",
        "import io\n",
        "import os\n",
        "\n",
        "# Import Biopython modules to interact with KEGG\n",
        "from Bio import SeqIO\n",
        "from Bio.KEGG import REST\n",
        "from Bio.KEGG.KGML import KGML_parser\n",
        "\n",
        "\n",
        "# Import Pandas, so we can use dataframes\n",
        "import pandas as pd\n"
      ],
      "execution_count": 3,
      "outputs": []
    },
    {
      "cell_type": "code",
      "metadata": {
        "id": "PZ7h-n_nZgXQ"
      },
      "source": [
        "# A bit of code that will help us display the PDF output\n",
        "def PDF(filename):\n",
        "    return HTML('<iframe src=%s width=700 height=350></iframe>' % filename)\n",
        "\n",
        "# Some code to return a Pandas dataframe, given tabular text\n",
        "def to_df(result):\n",
        "    return pd.read_table(io.StringIO(result), header=None)"
      ],
      "execution_count": 4,
      "outputs": []
    },
    {
      "cell_type": "code",
      "metadata": {
        "colab": {
          "base_uri": "https://localhost:8080/"
        },
        "id": "7kMvY4Tg9C95",
        "outputId": "49973b3f-c507-4cca-9fd4-2f4f83838e5f"
      },
      "source": [
        "# Perform the query\n",
        "result = REST.kegg_info(\"kegg\").read()\n",
        "\n",
        "# Print the result\n",
        "print(result)\n"
      ],
      "execution_count": 5,
      "outputs": [
        {
          "output_type": "stream",
          "name": "stdout",
          "text": [
            "kegg             Kyoto Encyclopedia of Genes and Genomes\n",
            "kegg             Release 100.0+/12-07, Dec 21\n",
            "                 Kanehisa Laboratories\n",
            "                 pathway     851,821 entries\n",
            "                 brite       296,597 entries\n",
            "                 module          533 entries\n",
            "                 orthology    24,810 entries\n",
            "                 genome        8,022 entries\n",
            "                 genes     38,817,295 entries\n",
            "                 compound     18,867 entries\n",
            "                 glycan       11,040 entries\n",
            "                 reaction     11,632 entries\n",
            "                 rclass        3,175 entries\n",
            "                 enzyme        7,890 entries\n",
            "                 network       1,541 entries\n",
            "                 variant         455 entries\n",
            "                 disease       2,528 entries\n",
            "                 drug         11,782 entries\n",
            "                 dgroup        2,363 entries\n",
            "\n"
          ]
        }
      ]
    },
    {
      "cell_type": "code",
      "metadata": {
        "id": "AVbywmEz9nuf"
      },
      "source": [
        ""
      ],
      "execution_count": null,
      "outputs": []
    },
    {
      "cell_type": "code",
      "metadata": {
        "colab": {
          "base_uri": "https://localhost:8080/"
        },
        "id": "QNUdkG9j93BW",
        "outputId": "0fe2464c-7fb6-4e17-ea92-bce5c060b526"
      },
      "source": [
        "# Print information about MMU\n",
        "result = REST.kegg_info(\"rix\").read()\n",
        "print(result)"
      ],
      "execution_count": null,
      "outputs": [
        {
          "output_type": "stream",
          "name": "stdout",
          "text": [
            "T02597           Roseburia intestinalis XB6B4 KEGG Genes Database\n",
            "rix              Release 100.0+/12-07, Dec 21\n",
            "                 Kanehisa Laboratories\n",
            "                 3,699 entries\n",
            "\n",
            "linked db        pathway\n",
            "                 brite\n",
            "                 module\n",
            "                 ko\n",
            "                 genome\n",
            "                 enzyme\n",
            "                 ncbi-proteinid\n",
            "                 uniprot\n",
            "\n"
          ]
        }
      ]
    },
    {
      "cell_type": "code",
      "metadata": {
        "colab": {
          "base_uri": "https://localhost:8080/",
          "height": 1000
        },
        "id": "lxygvGwp-3vX",
        "outputId": "a7559ef6-cc02-4b97-e63c-497324b0281a"
      },
      "source": [
        "# Get genes involved with fatty-acid biosynthesis in Kitasatospora\n",
        "result = REST.kegg_link(\"ec\", \"map00010\").read()\n",
        "to_df(result)"
      ],
      "execution_count": null,
      "outputs": [
        {
          "output_type": "execute_result",
          "data": {
            "text/html": [
              "<div>\n",
              "<style scoped>\n",
              "    .dataframe tbody tr th:only-of-type {\n",
              "        vertical-align: middle;\n",
              "    }\n",
              "\n",
              "    .dataframe tbody tr th {\n",
              "        vertical-align: top;\n",
              "    }\n",
              "\n",
              "    .dataframe thead th {\n",
              "        text-align: right;\n",
              "    }\n",
              "</style>\n",
              "<table border=\"1\" class=\"dataframe\">\n",
              "  <thead>\n",
              "    <tr style=\"text-align: right;\">\n",
              "      <th></th>\n",
              "      <th>0</th>\n",
              "      <th>1</th>\n",
              "    </tr>\n",
              "  </thead>\n",
              "  <tbody>\n",
              "    <tr>\n",
              "      <th>0</th>\n",
              "      <td>path:map00010</td>\n",
              "      <td>ec:1.1.1.1</td>\n",
              "    </tr>\n",
              "    <tr>\n",
              "      <th>1</th>\n",
              "      <td>path:map00010</td>\n",
              "      <td>ec:1.1.1.2</td>\n",
              "    </tr>\n",
              "    <tr>\n",
              "      <th>2</th>\n",
              "      <td>path:map00010</td>\n",
              "      <td>ec:1.1.1.27</td>\n",
              "    </tr>\n",
              "    <tr>\n",
              "      <th>3</th>\n",
              "      <td>path:map00010</td>\n",
              "      <td>ec:1.1.2.7</td>\n",
              "    </tr>\n",
              "    <tr>\n",
              "      <th>4</th>\n",
              "      <td>path:map00010</td>\n",
              "      <td>ec:1.1.2.8</td>\n",
              "    </tr>\n",
              "    <tr>\n",
              "      <th>5</th>\n",
              "      <td>path:map00010</td>\n",
              "      <td>ec:1.1.5.5</td>\n",
              "    </tr>\n",
              "    <tr>\n",
              "      <th>6</th>\n",
              "      <td>path:map00010</td>\n",
              "      <td>ec:1.2.1.12</td>\n",
              "    </tr>\n",
              "    <tr>\n",
              "      <th>7</th>\n",
              "      <td>path:map00010</td>\n",
              "      <td>ec:1.2.1.3</td>\n",
              "    </tr>\n",
              "    <tr>\n",
              "      <th>8</th>\n",
              "      <td>path:map00010</td>\n",
              "      <td>ec:1.2.1.5</td>\n",
              "    </tr>\n",
              "    <tr>\n",
              "      <th>9</th>\n",
              "      <td>path:map00010</td>\n",
              "      <td>ec:1.2.1.59</td>\n",
              "    </tr>\n",
              "    <tr>\n",
              "      <th>10</th>\n",
              "      <td>path:map00010</td>\n",
              "      <td>ec:1.2.1.9</td>\n",
              "    </tr>\n",
              "    <tr>\n",
              "      <th>11</th>\n",
              "      <td>path:map00010</td>\n",
              "      <td>ec:1.2.1.90</td>\n",
              "    </tr>\n",
              "    <tr>\n",
              "      <th>12</th>\n",
              "      <td>path:map00010</td>\n",
              "      <td>ec:1.2.4.1</td>\n",
              "    </tr>\n",
              "    <tr>\n",
              "      <th>13</th>\n",
              "      <td>path:map00010</td>\n",
              "      <td>ec:1.2.7.1</td>\n",
              "    </tr>\n",
              "    <tr>\n",
              "      <th>14</th>\n",
              "      <td>path:map00010</td>\n",
              "      <td>ec:1.2.7.11</td>\n",
              "    </tr>\n",
              "    <tr>\n",
              "      <th>15</th>\n",
              "      <td>path:map00010</td>\n",
              "      <td>ec:1.2.7.6</td>\n",
              "    </tr>\n",
              "    <tr>\n",
              "      <th>16</th>\n",
              "      <td>path:map00010</td>\n",
              "      <td>ec:1.8.1.4</td>\n",
              "    </tr>\n",
              "    <tr>\n",
              "      <th>17</th>\n",
              "      <td>path:map00010</td>\n",
              "      <td>ec:2.3.1.12</td>\n",
              "    </tr>\n",
              "    <tr>\n",
              "      <th>18</th>\n",
              "      <td>path:map00010</td>\n",
              "      <td>ec:2.7.1.1</td>\n",
              "    </tr>\n",
              "    <tr>\n",
              "      <th>19</th>\n",
              "      <td>path:map00010</td>\n",
              "      <td>ec:2.7.1.11</td>\n",
              "    </tr>\n",
              "    <tr>\n",
              "      <th>20</th>\n",
              "      <td>path:map00010</td>\n",
              "      <td>ec:2.7.1.146</td>\n",
              "    </tr>\n",
              "    <tr>\n",
              "      <th>21</th>\n",
              "      <td>path:map00010</td>\n",
              "      <td>ec:2.7.1.147</td>\n",
              "    </tr>\n",
              "    <tr>\n",
              "      <th>22</th>\n",
              "      <td>path:map00010</td>\n",
              "      <td>ec:2.7.1.199</td>\n",
              "    </tr>\n",
              "    <tr>\n",
              "      <th>23</th>\n",
              "      <td>path:map00010</td>\n",
              "      <td>ec:2.7.1.2</td>\n",
              "    </tr>\n",
              "    <tr>\n",
              "      <th>24</th>\n",
              "      <td>path:map00010</td>\n",
              "      <td>ec:2.7.1.40</td>\n",
              "    </tr>\n",
              "    <tr>\n",
              "      <th>25</th>\n",
              "      <td>path:map00010</td>\n",
              "      <td>ec:2.7.1.63</td>\n",
              "    </tr>\n",
              "    <tr>\n",
              "      <th>26</th>\n",
              "      <td>path:map00010</td>\n",
              "      <td>ec:2.7.1.90</td>\n",
              "    </tr>\n",
              "    <tr>\n",
              "      <th>27</th>\n",
              "      <td>path:map00010</td>\n",
              "      <td>ec:2.7.2.3</td>\n",
              "    </tr>\n",
              "    <tr>\n",
              "      <th>28</th>\n",
              "      <td>path:map00010</td>\n",
              "      <td>ec:2.7.9.1</td>\n",
              "    </tr>\n",
              "    <tr>\n",
              "      <th>29</th>\n",
              "      <td>path:map00010</td>\n",
              "      <td>ec:2.7.9.2</td>\n",
              "    </tr>\n",
              "    <tr>\n",
              "      <th>30</th>\n",
              "      <td>path:map00010</td>\n",
              "      <td>ec:3.1.3.10</td>\n",
              "    </tr>\n",
              "    <tr>\n",
              "      <th>31</th>\n",
              "      <td>path:map00010</td>\n",
              "      <td>ec:3.1.3.11</td>\n",
              "    </tr>\n",
              "    <tr>\n",
              "      <th>32</th>\n",
              "      <td>path:map00010</td>\n",
              "      <td>ec:3.1.3.80</td>\n",
              "    </tr>\n",
              "    <tr>\n",
              "      <th>33</th>\n",
              "      <td>path:map00010</td>\n",
              "      <td>ec:3.1.3.9</td>\n",
              "    </tr>\n",
              "    <tr>\n",
              "      <th>34</th>\n",
              "      <td>path:map00010</td>\n",
              "      <td>ec:3.2.1.86</td>\n",
              "    </tr>\n",
              "    <tr>\n",
              "      <th>35</th>\n",
              "      <td>path:map00010</td>\n",
              "      <td>ec:4.1.1.1</td>\n",
              "    </tr>\n",
              "    <tr>\n",
              "      <th>36</th>\n",
              "      <td>path:map00010</td>\n",
              "      <td>ec:4.1.1.32</td>\n",
              "    </tr>\n",
              "    <tr>\n",
              "      <th>37</th>\n",
              "      <td>path:map00010</td>\n",
              "      <td>ec:4.1.1.49</td>\n",
              "    </tr>\n",
              "    <tr>\n",
              "      <th>38</th>\n",
              "      <td>path:map00010</td>\n",
              "      <td>ec:4.1.2.13</td>\n",
              "    </tr>\n",
              "    <tr>\n",
              "      <th>39</th>\n",
              "      <td>path:map00010</td>\n",
              "      <td>ec:4.2.1.11</td>\n",
              "    </tr>\n",
              "    <tr>\n",
              "      <th>40</th>\n",
              "      <td>path:map00010</td>\n",
              "      <td>ec:5.1.3.15</td>\n",
              "    </tr>\n",
              "    <tr>\n",
              "      <th>41</th>\n",
              "      <td>path:map00010</td>\n",
              "      <td>ec:5.1.3.3</td>\n",
              "    </tr>\n",
              "    <tr>\n",
              "      <th>42</th>\n",
              "      <td>path:map00010</td>\n",
              "      <td>ec:5.3.1.1</td>\n",
              "    </tr>\n",
              "    <tr>\n",
              "      <th>43</th>\n",
              "      <td>path:map00010</td>\n",
              "      <td>ec:5.3.1.9</td>\n",
              "    </tr>\n",
              "    <tr>\n",
              "      <th>44</th>\n",
              "      <td>path:map00010</td>\n",
              "      <td>ec:5.4.2.11</td>\n",
              "    </tr>\n",
              "    <tr>\n",
              "      <th>45</th>\n",
              "      <td>path:map00010</td>\n",
              "      <td>ec:5.4.2.12</td>\n",
              "    </tr>\n",
              "    <tr>\n",
              "      <th>46</th>\n",
              "      <td>path:map00010</td>\n",
              "      <td>ec:5.4.2.2</td>\n",
              "    </tr>\n",
              "    <tr>\n",
              "      <th>47</th>\n",
              "      <td>path:map00010</td>\n",
              "      <td>ec:5.4.2.4</td>\n",
              "    </tr>\n",
              "    <tr>\n",
              "      <th>48</th>\n",
              "      <td>path:map00010</td>\n",
              "      <td>ec:6.2.1.1</td>\n",
              "    </tr>\n",
              "    <tr>\n",
              "      <th>49</th>\n",
              "      <td>path:map00010</td>\n",
              "      <td>ec:6.2.1.13</td>\n",
              "    </tr>\n",
              "  </tbody>\n",
              "</table>\n",
              "</div>"
            ],
            "text/plain": [
              "                0             1\n",
              "0   path:map00010    ec:1.1.1.1\n",
              "1   path:map00010    ec:1.1.1.2\n",
              "2   path:map00010   ec:1.1.1.27\n",
              "3   path:map00010    ec:1.1.2.7\n",
              "4   path:map00010    ec:1.1.2.8\n",
              "5   path:map00010    ec:1.1.5.5\n",
              "6   path:map00010   ec:1.2.1.12\n",
              "7   path:map00010    ec:1.2.1.3\n",
              "8   path:map00010    ec:1.2.1.5\n",
              "9   path:map00010   ec:1.2.1.59\n",
              "10  path:map00010    ec:1.2.1.9\n",
              "11  path:map00010   ec:1.2.1.90\n",
              "12  path:map00010    ec:1.2.4.1\n",
              "13  path:map00010    ec:1.2.7.1\n",
              "14  path:map00010   ec:1.2.7.11\n",
              "15  path:map00010    ec:1.2.7.6\n",
              "16  path:map00010    ec:1.8.1.4\n",
              "17  path:map00010   ec:2.3.1.12\n",
              "18  path:map00010    ec:2.7.1.1\n",
              "19  path:map00010   ec:2.7.1.11\n",
              "20  path:map00010  ec:2.7.1.146\n",
              "21  path:map00010  ec:2.7.1.147\n",
              "22  path:map00010  ec:2.7.1.199\n",
              "23  path:map00010    ec:2.7.1.2\n",
              "24  path:map00010   ec:2.7.1.40\n",
              "25  path:map00010   ec:2.7.1.63\n",
              "26  path:map00010   ec:2.7.1.90\n",
              "27  path:map00010    ec:2.7.2.3\n",
              "28  path:map00010    ec:2.7.9.1\n",
              "29  path:map00010    ec:2.7.9.2\n",
              "30  path:map00010   ec:3.1.3.10\n",
              "31  path:map00010   ec:3.1.3.11\n",
              "32  path:map00010   ec:3.1.3.80\n",
              "33  path:map00010    ec:3.1.3.9\n",
              "34  path:map00010   ec:3.2.1.86\n",
              "35  path:map00010    ec:4.1.1.1\n",
              "36  path:map00010   ec:4.1.1.32\n",
              "37  path:map00010   ec:4.1.1.49\n",
              "38  path:map00010   ec:4.1.2.13\n",
              "39  path:map00010   ec:4.2.1.11\n",
              "40  path:map00010   ec:5.1.3.15\n",
              "41  path:map00010    ec:5.1.3.3\n",
              "42  path:map00010    ec:5.3.1.1\n",
              "43  path:map00010    ec:5.3.1.9\n",
              "44  path:map00010   ec:5.4.2.11\n",
              "45  path:map00010   ec:5.4.2.12\n",
              "46  path:map00010    ec:5.4.2.2\n",
              "47  path:map00010    ec:5.4.2.4\n",
              "48  path:map00010    ec:6.2.1.1\n",
              "49  path:map00010   ec:6.2.1.13"
            ]
          },
          "metadata": {},
          "execution_count": 7
        }
      ]
    },
    {
      "cell_type": "code",
      "metadata": {
        "colab": {
          "base_uri": "https://localhost:8080/"
        },
        "id": "PW5kxlpIPuo1",
        "outputId": "dd41d3a1-5ce3-49c1-ddc5-820bff4bb379"
      },
      "source": [
        "from bioservices.kegg import KEGG\n",
        "k = KEGG()"
      ],
      "execution_count": null,
      "outputs": [
        {
          "output_type": "stream",
          "name": "stdout",
          "text": [
            "Creating directory /root/.cache/bioservices \n",
            "Welcome to Bioservices\n",
            "======================\n",
            "It looks like you do not have a configuration file.\n",
            "We are creating one with default values in /root/.config/bioservices/bioservices.cfg .\n",
            "Done\n"
          ]
        }
      ]
    },
    {
      "cell_type": "code",
      "metadata": {
        "colab": {
          "base_uri": "https://localhost:8080/"
        },
        "id": "bMugh38NPzjN",
        "outputId": "3aaa3342-c3d9-451f-bfd2-f37ba4de7bd2"
      },
      "source": [
        "!pip install bioservices"
      ],
      "execution_count": null,
      "outputs": [
        {
          "output_type": "stream",
          "name": "stdout",
          "text": [
            "Requirement already satisfied: bioservices in /usr/local/lib/python3.7/dist-packages (1.8.2)\n",
            "Requirement already satisfied: lxml in /usr/local/lib/python3.7/dist-packages (from bioservices) (4.2.6)\n",
            "Requirement already satisfied: requests in /usr/local/lib/python3.7/dist-packages (from bioservices) (2.23.0)\n",
            "Requirement already satisfied: beautifulsoup4 in /usr/local/lib/python3.7/dist-packages (from bioservices) (4.6.3)\n",
            "Requirement already satisfied: easydev>=0.9.36 in /usr/local/lib/python3.7/dist-packages (from bioservices) (0.12.0)\n",
            "Requirement already satisfied: requests-cache in /usr/local/lib/python3.7/dist-packages (from bioservices) (0.8.1)\n",
            "Requirement already satisfied: appdirs in /usr/local/lib/python3.7/dist-packages (from bioservices) (1.4.4)\n",
            "Requirement already satisfied: wrapt in /usr/local/lib/python3.7/dist-packages (from bioservices) (1.13.3)\n",
            "Requirement already satisfied: colorlog in /usr/local/lib/python3.7/dist-packages (from bioservices) (6.6.0)\n",
            "Requirement already satisfied: grequests in /usr/local/lib/python3.7/dist-packages (from bioservices) (0.6.0)\n",
            "Requirement already satisfied: xmltodict in /usr/local/lib/python3.7/dist-packages (from bioservices) (0.12.0)\n",
            "Requirement already satisfied: pandas in /usr/local/lib/python3.7/dist-packages (from bioservices) (1.1.5)\n",
            "Requirement already satisfied: suds-community in /usr/local/lib/python3.7/dist-packages (from bioservices) (1.0.0)\n",
            "Requirement already satisfied: pexpect in /usr/local/lib/python3.7/dist-packages (from easydev>=0.9.36->bioservices) (4.8.0)\n",
            "Requirement already satisfied: colorama in /usr/local/lib/python3.7/dist-packages (from easydev>=0.9.36->bioservices) (0.4.4)\n",
            "Requirement already satisfied: gevent in /usr/local/lib/python3.7/dist-packages (from grequests->bioservices) (21.8.0)\n",
            "Requirement already satisfied: zope.interface in /usr/local/lib/python3.7/dist-packages (from gevent->grequests->bioservices) (5.4.0)\n",
            "Requirement already satisfied: zope.event in /usr/local/lib/python3.7/dist-packages (from gevent->grequests->bioservices) (4.5.0)\n",
            "Requirement already satisfied: setuptools in /usr/local/lib/python3.7/dist-packages (from gevent->grequests->bioservices) (57.4.0)\n",
            "Requirement already satisfied: greenlet<2.0,>=1.1.0 in /usr/local/lib/python3.7/dist-packages (from gevent->grequests->bioservices) (1.1.2)\n",
            "Requirement already satisfied: pytz>=2017.2 in /usr/local/lib/python3.7/dist-packages (from pandas->bioservices) (2018.9)\n",
            "Requirement already satisfied: numpy>=1.15.4 in /usr/local/lib/python3.7/dist-packages (from pandas->bioservices) (1.19.5)\n",
            "Requirement already satisfied: python-dateutil>=2.7.3 in /usr/local/lib/python3.7/dist-packages (from pandas->bioservices) (2.8.2)\n",
            "Requirement already satisfied: six>=1.5 in /usr/local/lib/python3.7/dist-packages (from python-dateutil>=2.7.3->pandas->bioservices) (1.15.0)\n",
            "Requirement already satisfied: ptyprocess>=0.5 in /usr/local/lib/python3.7/dist-packages (from pexpect->easydev>=0.9.36->bioservices) (0.7.0)\n",
            "Requirement already satisfied: urllib3!=1.25.0,!=1.25.1,<1.26,>=1.21.1 in /usr/local/lib/python3.7/dist-packages (from requests->bioservices) (1.25.11)\n",
            "Requirement already satisfied: certifi>=2017.4.17 in /usr/local/lib/python3.7/dist-packages (from requests->bioservices) (2021.10.8)\n",
            "Requirement already satisfied: chardet<4,>=3.0.2 in /usr/local/lib/python3.7/dist-packages (from requests->bioservices) (3.0.4)\n",
            "Requirement already satisfied: idna<3,>=2.5 in /usr/local/lib/python3.7/dist-packages (from requests->bioservices) (2.10)\n",
            "Requirement already satisfied: attrs<22.0,>=21.2 in /usr/local/lib/python3.7/dist-packages (from requests-cache->bioservices) (21.2.0)\n",
            "Requirement already satisfied: url-normalize<2.0,>=1.4 in /usr/local/lib/python3.7/dist-packages (from requests-cache->bioservices) (1.4.3)\n",
            "Requirement already satisfied: cattrs<2.0,>=1.8 in /usr/local/lib/python3.7/dist-packages (from requests-cache->bioservices) (1.9.0)\n",
            "Requirement already satisfied: typing_extensions in /usr/local/lib/python3.7/dist-packages (from cattrs<2.0,>=1.8->requests-cache->bioservices) (3.10.0.2)\n"
          ]
        }
      ]
    },
    {
      "cell_type": "code",
      "metadata": {
        "colab": {
          "base_uri": "https://localhost:8080/",
          "height": 165
        },
        "id": "AfOlJOHPQS7e",
        "outputId": "15a0e9d5-9ca1-4184-967b-fd1afb839ca0"
      },
      "source": [
        "print(k.find(\"pathway\", \"glycolysis\"))"
      ],
      "execution_count": 1,
      "outputs": [
        {
          "output_type": "error",
          "ename": "NameError",
          "evalue": "ignored",
          "traceback": [
            "\u001b[0;31m---------------------------------------------------------------------------\u001b[0m",
            "\u001b[0;31mNameError\u001b[0m                                 Traceback (most recent call last)",
            "\u001b[0;32m<ipython-input-1-3f866fee6680>\u001b[0m in \u001b[0;36m<module>\u001b[0;34m()\u001b[0m\n\u001b[0;32m----> 1\u001b[0;31m \u001b[0mprint\u001b[0m\u001b[0;34m(\u001b[0m\u001b[0mk\u001b[0m\u001b[0;34m.\u001b[0m\u001b[0mfind\u001b[0m\u001b[0;34m(\u001b[0m\u001b[0;34m\"pathway\"\u001b[0m\u001b[0;34m,\u001b[0m \u001b[0;34m\"glycolysis\"\u001b[0m\u001b[0;34m)\u001b[0m\u001b[0;34m)\u001b[0m\u001b[0;34m\u001b[0m\u001b[0;34m\u001b[0m\u001b[0m\n\u001b[0m",
            "\u001b[0;31mNameError\u001b[0m: name 'k' is not defined"
          ]
        }
      ]
    }
  ]
}