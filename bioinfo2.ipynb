{
  "nbformat": 4,
  "nbformat_minor": 0,
  "metadata": {
    "colab": {
      "name": "bioinfo.ipynb",
      "provenance": [],
      "authorship_tag": "ABX9TyMgZ2/UfIqv/+X4ShcCtPsI",
      "include_colab_link": true
    },
    "kernelspec": {
      "name": "python3",
      "display_name": "Python 3"
    },
    "language_info": {
      "name": "python"
    }
  },
  "cells": [
    {
      "cell_type": "markdown",
      "metadata": {
        "id": "view-in-github",
        "colab_type": "text"
      },
      "source": [
        "<a href=\"https://colab.research.google.com/github/av1sh3k-bd/KEGG2/blob/main/bioinfo2.ipynb\" target=\"_parent\"><img src=\"https://colab.research.google.com/assets/colab-badge.svg\" alt=\"Open In Colab\"/></a>"
      ]
    },
    {
      "cell_type": "code",
      "metadata": {
        "id": "w4PHASyGU8eQ",
        "colab": {
          "base_uri": "https://localhost:8080/"
        },
        "outputId": "4024d56b-15c9-4f28-befe-82b1eec0ad18"
      },
      "source": [
        "!pip install Bio\n"
      ],
      "execution_count": 2,
      "outputs": [
        {
          "output_type": "stream",
          "name": "stdout",
          "text": [
            "Collecting Bio\n",
            "  Downloading bio-1.3.2-py3-none-any.whl (272 kB)\n",
            "\u001b[?25l\r\u001b[K     |█▏                              | 10 kB 19.4 MB/s eta 0:00:01\r\u001b[K     |██▍                             | 20 kB 21.0 MB/s eta 0:00:01\r\u001b[K     |███▋                            | 30 kB 17.5 MB/s eta 0:00:01\r\u001b[K     |████▉                           | 40 kB 15.2 MB/s eta 0:00:01\r\u001b[K     |██████                          | 51 kB 7.3 MB/s eta 0:00:01\r\u001b[K     |███████▎                        | 61 kB 7.1 MB/s eta 0:00:01\r\u001b[K     |████████▍                       | 71 kB 7.4 MB/s eta 0:00:01\r\u001b[K     |█████████▋                      | 81 kB 8.2 MB/s eta 0:00:01\r\u001b[K     |██████████▉                     | 92 kB 8.6 MB/s eta 0:00:01\r\u001b[K     |████████████                    | 102 kB 6.9 MB/s eta 0:00:01\r\u001b[K     |█████████████▎                  | 112 kB 6.9 MB/s eta 0:00:01\r\u001b[K     |██████████████▌                 | 122 kB 6.9 MB/s eta 0:00:01\r\u001b[K     |███████████████▋                | 133 kB 6.9 MB/s eta 0:00:01\r\u001b[K     |████████████████▉               | 143 kB 6.9 MB/s eta 0:00:01\r\u001b[K     |██████████████████              | 153 kB 6.9 MB/s eta 0:00:01\r\u001b[K     |███████████████████▎            | 163 kB 6.9 MB/s eta 0:00:01\r\u001b[K     |████████████████████▌           | 174 kB 6.9 MB/s eta 0:00:01\r\u001b[K     |█████████████████████▊          | 184 kB 6.9 MB/s eta 0:00:01\r\u001b[K     |██████████████████████▉         | 194 kB 6.9 MB/s eta 0:00:01\r\u001b[K     |████████████████████████        | 204 kB 6.9 MB/s eta 0:00:01\r\u001b[K     |█████████████████████████▎      | 215 kB 6.9 MB/s eta 0:00:01\r\u001b[K     |██████████████████████████▌     | 225 kB 6.9 MB/s eta 0:00:01\r\u001b[K     |███████████████████████████▊    | 235 kB 6.9 MB/s eta 0:00:01\r\u001b[K     |█████████████████████████████   | 245 kB 6.9 MB/s eta 0:00:01\r\u001b[K     |██████████████████████████████▏ | 256 kB 6.9 MB/s eta 0:00:01\r\u001b[K     |███████████████████████████████▎| 266 kB 6.9 MB/s eta 0:00:01\r\u001b[K     |████████████████████████████████| 272 kB 6.9 MB/s \n",
            "\u001b[?25hRequirement already satisfied: tqdm in /usr/local/lib/python3.7/dist-packages (from Bio) (4.62.3)\n",
            "Collecting biopython>=1.79\n",
            "  Downloading biopython-1.79-cp37-cp37m-manylinux_2_5_x86_64.manylinux1_x86_64.whl (2.3 MB)\n",
            "\u001b[K     |████████████████████████████████| 2.3 MB 47.9 MB/s \n",
            "\u001b[?25hCollecting mygene\n",
            "  Downloading mygene-3.2.2-py2.py3-none-any.whl (5.4 kB)\n",
            "Requirement already satisfied: requests in /usr/local/lib/python3.7/dist-packages (from Bio) (2.23.0)\n",
            "Requirement already satisfied: numpy in /usr/local/lib/python3.7/dist-packages (from biopython>=1.79->Bio) (1.19.5)\n",
            "Collecting biothings-client>=0.2.6\n",
            "  Downloading biothings_client-0.2.6-py2.py3-none-any.whl (37 kB)\n",
            "Requirement already satisfied: chardet<4,>=3.0.2 in /usr/local/lib/python3.7/dist-packages (from requests->Bio) (3.0.4)\n",
            "Requirement already satisfied: urllib3!=1.25.0,!=1.25.1,<1.26,>=1.21.1 in /usr/local/lib/python3.7/dist-packages (from requests->Bio) (1.24.3)\n",
            "Requirement already satisfied: idna<3,>=2.5 in /usr/local/lib/python3.7/dist-packages (from requests->Bio) (2.10)\n",
            "Requirement already satisfied: certifi>=2017.4.17 in /usr/local/lib/python3.7/dist-packages (from requests->Bio) (2021.10.8)\n",
            "Installing collected packages: biothings-client, mygene, biopython, Bio\n",
            "Successfully installed Bio-1.3.2 biopython-1.79 biothings-client-0.2.6 mygene-3.2.2\n"
          ]
        }
      ]
    },
    {
      "cell_type": "code",
      "metadata": {
        "id": "d_IMqe0TVJtW",
        "colab": {
          "base_uri": "https://localhost:8080/"
        },
        "outputId": "2b5da2a6-75b1-4667-c6dc-0b2e9594a922"
      },
      "source": [
        "!pip install Biopython\n",
        "\n"
      ],
      "execution_count": 3,
      "outputs": [
        {
          "output_type": "stream",
          "name": "stdout",
          "text": [
            "Requirement already satisfied: Biopython in /usr/local/lib/python3.7/dist-packages (1.79)\n",
            "Requirement already satisfied: numpy in /usr/local/lib/python3.7/dist-packages (from Biopython) (1.19.5)\n"
          ]
        }
      ]
    },
    {
      "cell_type": "code",
      "metadata": {
        "id": "Z10n3Efv4qM4"
      },
      "source": [
        "# Show plots as part of the notebook\n",
        "%matplotlib inline\n",
        "\n",
        "# Show images inline\n",
        "from IPython.display import Image\n",
        "\n",
        "# Standard library packages\n",
        "import io\n",
        "import os\n",
        "\n",
        "# Import Biopython modules to interact with KEGG\n",
        "from Bio import SeqIO\n",
        "from Bio.KEGG import REST\n",
        "from Bio.KEGG.KGML import KGML_parser\n",
        "\n",
        "\n",
        "# Import Pandas, so we can use dataframes\n",
        "import pandas as pd\n"
      ],
      "execution_count": 4,
      "outputs": []
    },
    {
      "cell_type": "code",
      "metadata": {
        "id": "PZ7h-n_nZgXQ"
      },
      "source": [
        "# A bit of code that will help us display the PDF output\n",
        "def PDF(filename):\n",
        "    return HTML('<iframe src=%s width=700 height=350></iframe>' % filename)\n",
        "\n",
        "# Some code to return a Pandas dataframe, given tabular text\n",
        "def to_df(result):\n",
        "    return pd.read_table(io.StringIO(result), header=None)"
      ],
      "execution_count": 5,
      "outputs": []
    },
    {
      "cell_type": "code",
      "metadata": {
        "colab": {
          "base_uri": "https://localhost:8080/"
        },
        "id": "7kMvY4Tg9C95",
        "outputId": "57ede7cb-fd89-4f0a-9cc8-be35552ae67f"
      },
      "source": [
        "# Perform the query\n",
        "result = REST.kegg_info(\"kegg\").read()\n",
        "\n",
        "# Print the result\n",
        "print(result)\n"
      ],
      "execution_count": 6,
      "outputs": [
        {
          "output_type": "stream",
          "name": "stdout",
          "text": [
            "kegg             Kyoto Encyclopedia of Genes and Genomes\n",
            "kegg             Release 100.0+/12-07, Dec 21\n",
            "                 Kanehisa Laboratories\n",
            "                 pathway     851,821 entries\n",
            "                 brite       296,597 entries\n",
            "                 module          533 entries\n",
            "                 orthology    24,812 entries\n",
            "                 genome        8,038 entries\n",
            "                 genes     38,817,295 entries\n",
            "                 compound     18,867 entries\n",
            "                 glycan       11,040 entries\n",
            "                 reaction     11,632 entries\n",
            "                 rclass        3,175 entries\n",
            "                 enzyme        7,890 entries\n",
            "                 network       1,541 entries\n",
            "                 variant         455 entries\n",
            "                 disease       2,528 entries\n",
            "                 drug         11,782 entries\n",
            "                 dgroup        2,363 entries\n",
            "\n"
          ]
        }
      ]
    },
    {
      "cell_type": "code",
      "metadata": {
        "colab": {
          "base_uri": "https://localhost:8080/"
        },
        "id": "QNUdkG9j93BW",
        "outputId": "72afad4e-b749-4dbc-ef11-02349a582010"
      },
      "source": [
        "# Print information about MMU\n",
        "result = REST.kegg_info(\"rix\").read()\n",
        "print(result)"
      ],
      "execution_count": 7,
      "outputs": [
        {
          "output_type": "stream",
          "name": "stdout",
          "text": [
            "T02597           Roseburia intestinalis XB6B4 KEGG Genes Database\n",
            "rix              Release 100.0+/12-07, Dec 21\n",
            "                 Kanehisa Laboratories\n",
            "                 3,699 entries\n",
            "\n",
            "linked db        pathway\n",
            "                 brite\n",
            "                 module\n",
            "                 ko\n",
            "                 genome\n",
            "                 enzyme\n",
            "                 ncbi-proteinid\n",
            "                 uniprot\n",
            "\n"
          ]
        }
      ]
    },
    {
      "cell_type": "code",
      "metadata": {
        "colab": {
          "base_uri": "https://localhost:8080/",
          "height": 1000
        },
        "id": "lxygvGwp-3vX",
        "outputId": "47b5a8c7-61d3-4ede-908c-051184e4ec20"
      },
      "source": [
        "# Get genes involved with fatty-acid biosynthesis in Kitasatospora\n",
        "result = REST.kegg_link(\"ec\", \"map00010\").read()\n",
        "to_df(result)"
      ],
      "execution_count": 8,
      "outputs": [
        {
          "output_type": "execute_result",
          "data": {
            "text/html": [
              "<div>\n",
              "<style scoped>\n",
              "    .dataframe tbody tr th:only-of-type {\n",
              "        vertical-align: middle;\n",
              "    }\n",
              "\n",
              "    .dataframe tbody tr th {\n",
              "        vertical-align: top;\n",
              "    }\n",
              "\n",
              "    .dataframe thead th {\n",
              "        text-align: right;\n",
              "    }\n",
              "</style>\n",
              "<table border=\"1\" class=\"dataframe\">\n",
              "  <thead>\n",
              "    <tr style=\"text-align: right;\">\n",
              "      <th></th>\n",
              "      <th>0</th>\n",
              "      <th>1</th>\n",
              "    </tr>\n",
              "  </thead>\n",
              "  <tbody>\n",
              "    <tr>\n",
              "      <th>0</th>\n",
              "      <td>path:map00010</td>\n",
              "      <td>ec:1.1.1.1</td>\n",
              "    </tr>\n",
              "    <tr>\n",
              "      <th>1</th>\n",
              "      <td>path:map00010</td>\n",
              "      <td>ec:1.1.1.2</td>\n",
              "    </tr>\n",
              "    <tr>\n",
              "      <th>2</th>\n",
              "      <td>path:map00010</td>\n",
              "      <td>ec:1.1.1.27</td>\n",
              "    </tr>\n",
              "    <tr>\n",
              "      <th>3</th>\n",
              "      <td>path:map00010</td>\n",
              "      <td>ec:1.1.2.7</td>\n",
              "    </tr>\n",
              "    <tr>\n",
              "      <th>4</th>\n",
              "      <td>path:map00010</td>\n",
              "      <td>ec:1.1.2.8</td>\n",
              "    </tr>\n",
              "    <tr>\n",
              "      <th>5</th>\n",
              "      <td>path:map00010</td>\n",
              "      <td>ec:1.1.5.5</td>\n",
              "    </tr>\n",
              "    <tr>\n",
              "      <th>6</th>\n",
              "      <td>path:map00010</td>\n",
              "      <td>ec:1.2.1.12</td>\n",
              "    </tr>\n",
              "    <tr>\n",
              "      <th>7</th>\n",
              "      <td>path:map00010</td>\n",
              "      <td>ec:1.2.1.3</td>\n",
              "    </tr>\n",
              "    <tr>\n",
              "      <th>8</th>\n",
              "      <td>path:map00010</td>\n",
              "      <td>ec:1.2.1.5</td>\n",
              "    </tr>\n",
              "    <tr>\n",
              "      <th>9</th>\n",
              "      <td>path:map00010</td>\n",
              "      <td>ec:1.2.1.59</td>\n",
              "    </tr>\n",
              "    <tr>\n",
              "      <th>10</th>\n",
              "      <td>path:map00010</td>\n",
              "      <td>ec:1.2.1.9</td>\n",
              "    </tr>\n",
              "    <tr>\n",
              "      <th>11</th>\n",
              "      <td>path:map00010</td>\n",
              "      <td>ec:1.2.1.90</td>\n",
              "    </tr>\n",
              "    <tr>\n",
              "      <th>12</th>\n",
              "      <td>path:map00010</td>\n",
              "      <td>ec:1.2.4.1</td>\n",
              "    </tr>\n",
              "    <tr>\n",
              "      <th>13</th>\n",
              "      <td>path:map00010</td>\n",
              "      <td>ec:1.2.7.1</td>\n",
              "    </tr>\n",
              "    <tr>\n",
              "      <th>14</th>\n",
              "      <td>path:map00010</td>\n",
              "      <td>ec:1.2.7.11</td>\n",
              "    </tr>\n",
              "    <tr>\n",
              "      <th>15</th>\n",
              "      <td>path:map00010</td>\n",
              "      <td>ec:1.2.7.6</td>\n",
              "    </tr>\n",
              "    <tr>\n",
              "      <th>16</th>\n",
              "      <td>path:map00010</td>\n",
              "      <td>ec:1.8.1.4</td>\n",
              "    </tr>\n",
              "    <tr>\n",
              "      <th>17</th>\n",
              "      <td>path:map00010</td>\n",
              "      <td>ec:2.3.1.12</td>\n",
              "    </tr>\n",
              "    <tr>\n",
              "      <th>18</th>\n",
              "      <td>path:map00010</td>\n",
              "      <td>ec:2.7.1.1</td>\n",
              "    </tr>\n",
              "    <tr>\n",
              "      <th>19</th>\n",
              "      <td>path:map00010</td>\n",
              "      <td>ec:2.7.1.11</td>\n",
              "    </tr>\n",
              "    <tr>\n",
              "      <th>20</th>\n",
              "      <td>path:map00010</td>\n",
              "      <td>ec:2.7.1.146</td>\n",
              "    </tr>\n",
              "    <tr>\n",
              "      <th>21</th>\n",
              "      <td>path:map00010</td>\n",
              "      <td>ec:2.7.1.147</td>\n",
              "    </tr>\n",
              "    <tr>\n",
              "      <th>22</th>\n",
              "      <td>path:map00010</td>\n",
              "      <td>ec:2.7.1.199</td>\n",
              "    </tr>\n",
              "    <tr>\n",
              "      <th>23</th>\n",
              "      <td>path:map00010</td>\n",
              "      <td>ec:2.7.1.2</td>\n",
              "    </tr>\n",
              "    <tr>\n",
              "      <th>24</th>\n",
              "      <td>path:map00010</td>\n",
              "      <td>ec:2.7.1.40</td>\n",
              "    </tr>\n",
              "    <tr>\n",
              "      <th>25</th>\n",
              "      <td>path:map00010</td>\n",
              "      <td>ec:2.7.1.63</td>\n",
              "    </tr>\n",
              "    <tr>\n",
              "      <th>26</th>\n",
              "      <td>path:map00010</td>\n",
              "      <td>ec:2.7.1.90</td>\n",
              "    </tr>\n",
              "    <tr>\n",
              "      <th>27</th>\n",
              "      <td>path:map00010</td>\n",
              "      <td>ec:2.7.2.3</td>\n",
              "    </tr>\n",
              "    <tr>\n",
              "      <th>28</th>\n",
              "      <td>path:map00010</td>\n",
              "      <td>ec:2.7.9.1</td>\n",
              "    </tr>\n",
              "    <tr>\n",
              "      <th>29</th>\n",
              "      <td>path:map00010</td>\n",
              "      <td>ec:2.7.9.2</td>\n",
              "    </tr>\n",
              "    <tr>\n",
              "      <th>30</th>\n",
              "      <td>path:map00010</td>\n",
              "      <td>ec:3.1.3.10</td>\n",
              "    </tr>\n",
              "    <tr>\n",
              "      <th>31</th>\n",
              "      <td>path:map00010</td>\n",
              "      <td>ec:3.1.3.11</td>\n",
              "    </tr>\n",
              "    <tr>\n",
              "      <th>32</th>\n",
              "      <td>path:map00010</td>\n",
              "      <td>ec:3.1.3.80</td>\n",
              "    </tr>\n",
              "    <tr>\n",
              "      <th>33</th>\n",
              "      <td>path:map00010</td>\n",
              "      <td>ec:3.1.3.9</td>\n",
              "    </tr>\n",
              "    <tr>\n",
              "      <th>34</th>\n",
              "      <td>path:map00010</td>\n",
              "      <td>ec:3.2.1.86</td>\n",
              "    </tr>\n",
              "    <tr>\n",
              "      <th>35</th>\n",
              "      <td>path:map00010</td>\n",
              "      <td>ec:4.1.1.1</td>\n",
              "    </tr>\n",
              "    <tr>\n",
              "      <th>36</th>\n",
              "      <td>path:map00010</td>\n",
              "      <td>ec:4.1.1.32</td>\n",
              "    </tr>\n",
              "    <tr>\n",
              "      <th>37</th>\n",
              "      <td>path:map00010</td>\n",
              "      <td>ec:4.1.1.49</td>\n",
              "    </tr>\n",
              "    <tr>\n",
              "      <th>38</th>\n",
              "      <td>path:map00010</td>\n",
              "      <td>ec:4.1.2.13</td>\n",
              "    </tr>\n",
              "    <tr>\n",
              "      <th>39</th>\n",
              "      <td>path:map00010</td>\n",
              "      <td>ec:4.2.1.11</td>\n",
              "    </tr>\n",
              "    <tr>\n",
              "      <th>40</th>\n",
              "      <td>path:map00010</td>\n",
              "      <td>ec:5.1.3.15</td>\n",
              "    </tr>\n",
              "    <tr>\n",
              "      <th>41</th>\n",
              "      <td>path:map00010</td>\n",
              "      <td>ec:5.1.3.3</td>\n",
              "    </tr>\n",
              "    <tr>\n",
              "      <th>42</th>\n",
              "      <td>path:map00010</td>\n",
              "      <td>ec:5.3.1.1</td>\n",
              "    </tr>\n",
              "    <tr>\n",
              "      <th>43</th>\n",
              "      <td>path:map00010</td>\n",
              "      <td>ec:5.3.1.9</td>\n",
              "    </tr>\n",
              "    <tr>\n",
              "      <th>44</th>\n",
              "      <td>path:map00010</td>\n",
              "      <td>ec:5.4.2.11</td>\n",
              "    </tr>\n",
              "    <tr>\n",
              "      <th>45</th>\n",
              "      <td>path:map00010</td>\n",
              "      <td>ec:5.4.2.12</td>\n",
              "    </tr>\n",
              "    <tr>\n",
              "      <th>46</th>\n",
              "      <td>path:map00010</td>\n",
              "      <td>ec:5.4.2.2</td>\n",
              "    </tr>\n",
              "    <tr>\n",
              "      <th>47</th>\n",
              "      <td>path:map00010</td>\n",
              "      <td>ec:5.4.2.4</td>\n",
              "    </tr>\n",
              "    <tr>\n",
              "      <th>48</th>\n",
              "      <td>path:map00010</td>\n",
              "      <td>ec:6.2.1.1</td>\n",
              "    </tr>\n",
              "    <tr>\n",
              "      <th>49</th>\n",
              "      <td>path:map00010</td>\n",
              "      <td>ec:6.2.1.13</td>\n",
              "    </tr>\n",
              "  </tbody>\n",
              "</table>\n",
              "</div>"
            ],
            "text/plain": [
              "                0             1\n",
              "0   path:map00010    ec:1.1.1.1\n",
              "1   path:map00010    ec:1.1.1.2\n",
              "2   path:map00010   ec:1.1.1.27\n",
              "3   path:map00010    ec:1.1.2.7\n",
              "4   path:map00010    ec:1.1.2.8\n",
              "5   path:map00010    ec:1.1.5.5\n",
              "6   path:map00010   ec:1.2.1.12\n",
              "7   path:map00010    ec:1.2.1.3\n",
              "8   path:map00010    ec:1.2.1.5\n",
              "9   path:map00010   ec:1.2.1.59\n",
              "10  path:map00010    ec:1.2.1.9\n",
              "11  path:map00010   ec:1.2.1.90\n",
              "12  path:map00010    ec:1.2.4.1\n",
              "13  path:map00010    ec:1.2.7.1\n",
              "14  path:map00010   ec:1.2.7.11\n",
              "15  path:map00010    ec:1.2.7.6\n",
              "16  path:map00010    ec:1.8.1.4\n",
              "17  path:map00010   ec:2.3.1.12\n",
              "18  path:map00010    ec:2.7.1.1\n",
              "19  path:map00010   ec:2.7.1.11\n",
              "20  path:map00010  ec:2.7.1.146\n",
              "21  path:map00010  ec:2.7.1.147\n",
              "22  path:map00010  ec:2.7.1.199\n",
              "23  path:map00010    ec:2.7.1.2\n",
              "24  path:map00010   ec:2.7.1.40\n",
              "25  path:map00010   ec:2.7.1.63\n",
              "26  path:map00010   ec:2.7.1.90\n",
              "27  path:map00010    ec:2.7.2.3\n",
              "28  path:map00010    ec:2.7.9.1\n",
              "29  path:map00010    ec:2.7.9.2\n",
              "30  path:map00010   ec:3.1.3.10\n",
              "31  path:map00010   ec:3.1.3.11\n",
              "32  path:map00010   ec:3.1.3.80\n",
              "33  path:map00010    ec:3.1.3.9\n",
              "34  path:map00010   ec:3.2.1.86\n",
              "35  path:map00010    ec:4.1.1.1\n",
              "36  path:map00010   ec:4.1.1.32\n",
              "37  path:map00010   ec:4.1.1.49\n",
              "38  path:map00010   ec:4.1.2.13\n",
              "39  path:map00010   ec:4.2.1.11\n",
              "40  path:map00010   ec:5.1.3.15\n",
              "41  path:map00010    ec:5.1.3.3\n",
              "42  path:map00010    ec:5.3.1.1\n",
              "43  path:map00010    ec:5.3.1.9\n",
              "44  path:map00010   ec:5.4.2.11\n",
              "45  path:map00010   ec:5.4.2.12\n",
              "46  path:map00010    ec:5.4.2.2\n",
              "47  path:map00010    ec:5.4.2.4\n",
              "48  path:map00010    ec:6.2.1.1\n",
              "49  path:map00010   ec:6.2.1.13"
            ]
          },
          "metadata": {},
          "execution_count": 8
        }
      ]
    },
    {
      "cell_type": "code",
      "metadata": {
        "colab": {
          "base_uri": "https://localhost:8080/"
        },
        "id": "PW5kxlpIPuo1",
        "outputId": "a8389450-f56f-4585-c123-cffbf6f8a7af"
      },
      "source": [
        "from bioservices.kegg import KEGG\n",
        "k = KEGG()"
      ],
      "execution_count": 12,
      "outputs": [
        {
          "output_type": "stream",
          "name": "stdout",
          "text": [
            "Creating directory /root/.config/bioservices \n",
            "Creating directory /root/.cache/bioservices \n",
            "Welcome to Bioservices\n",
            "======================\n",
            "It looks like you do not have a configuration file.\n",
            "We are creating one with default values in /root/.config/bioservices/bioservices.cfg .\n",
            "Done\n"
          ]
        }
      ]
    },
    {
      "cell_type": "code",
      "metadata": {
        "colab": {
          "base_uri": "https://localhost:8080/"
        },
        "id": "bMugh38NPzjN",
        "outputId": "708e39b9-2bd0-410b-b855-76ceb0caf804"
      },
      "source": [
        "!pip install bioservices"
      ],
      "execution_count": 11,
      "outputs": [
        {
          "output_type": "stream",
          "name": "stdout",
          "text": [
            "Collecting bioservices\n",
            "  Downloading bioservices-1.8.2.tar.gz (202 kB)\n",
            "\u001b[?25l\r\u001b[K     |█▋                              | 10 kB 25.0 MB/s eta 0:00:01\r\u001b[K     |███▎                            | 20 kB 31.0 MB/s eta 0:00:01\r\u001b[K     |████▉                           | 30 kB 28.4 MB/s eta 0:00:01\r\u001b[K     |██████▌                         | 40 kB 20.7 MB/s eta 0:00:01\r\u001b[K     |████████                        | 51 kB 9.4 MB/s eta 0:00:01\r\u001b[K     |█████████▊                      | 61 kB 10.0 MB/s eta 0:00:01\r\u001b[K     |███████████▎                    | 71 kB 8.2 MB/s eta 0:00:01\r\u001b[K     |█████████████                   | 81 kB 9.1 MB/s eta 0:00:01\r\u001b[K     |██████████████▌                 | 92 kB 7.8 MB/s eta 0:00:01\r\u001b[K     |████████████████▏               | 102 kB 8.5 MB/s eta 0:00:01\r\u001b[K     |█████████████████▊              | 112 kB 8.5 MB/s eta 0:00:01\r\u001b[K     |███████████████████▍            | 122 kB 8.5 MB/s eta 0:00:01\r\u001b[K     |█████████████████████           | 133 kB 8.5 MB/s eta 0:00:01\r\u001b[K     |██████████████████████▋         | 143 kB 8.5 MB/s eta 0:00:01\r\u001b[K     |████████████████████████▏       | 153 kB 8.5 MB/s eta 0:00:01\r\u001b[K     |█████████████████████████▉      | 163 kB 8.5 MB/s eta 0:00:01\r\u001b[K     |███████████████████████████▌    | 174 kB 8.5 MB/s eta 0:00:01\r\u001b[K     |█████████████████████████████   | 184 kB 8.5 MB/s eta 0:00:01\r\u001b[K     |██████████████████████████████▊ | 194 kB 8.5 MB/s eta 0:00:01\r\u001b[K     |████████████████████████████████| 202 kB 8.5 MB/s \n",
            "\u001b[?25hCollecting grequests\n",
            "  Downloading grequests-0.6.0-py3-none-any.whl (5.2 kB)\n",
            "Requirement already satisfied: requests in /usr/local/lib/python3.7/dist-packages (from bioservices) (2.23.0)\n",
            "Collecting requests_cache\n",
            "  Downloading requests_cache-0.8.1-py3-none-any.whl (44 kB)\n",
            "\u001b[K     |████████████████████████████████| 44 kB 3.1 MB/s \n",
            "\u001b[?25hCollecting easydev>=0.9.36\n",
            "  Downloading easydev-0.12.0.tar.gz (47 kB)\n",
            "\u001b[K     |████████████████████████████████| 47 kB 5.1 MB/s \n",
            "\u001b[?25hRequirement already satisfied: beautifulsoup4 in /usr/local/lib/python3.7/dist-packages (from bioservices) (4.6.3)\n",
            "Collecting xmltodict\n",
            "  Downloading xmltodict-0.12.0-py2.py3-none-any.whl (9.2 kB)\n",
            "Requirement already satisfied: lxml in /usr/local/lib/python3.7/dist-packages (from bioservices) (4.2.6)\n",
            "Collecting suds-community\n",
            "  Downloading suds_community-1.0.0-py3-none-any.whl (144 kB)\n",
            "\u001b[K     |████████████████████████████████| 144 kB 51.0 MB/s \n",
            "\u001b[?25hRequirement already satisfied: appdirs in /usr/local/lib/python3.7/dist-packages (from bioservices) (1.4.4)\n",
            "Requirement already satisfied: wrapt in /usr/local/lib/python3.7/dist-packages (from bioservices) (1.13.3)\n",
            "Requirement already satisfied: pandas in /usr/local/lib/python3.7/dist-packages (from bioservices) (1.1.5)\n",
            "Collecting colorlog\n",
            "  Downloading colorlog-6.6.0-py2.py3-none-any.whl (11 kB)\n",
            "Collecting colorama\n",
            "  Downloading colorama-0.4.4-py2.py3-none-any.whl (16 kB)\n",
            "Requirement already satisfied: pexpect in /usr/local/lib/python3.7/dist-packages (from easydev>=0.9.36->bioservices) (4.8.0)\n",
            "Collecting gevent\n",
            "  Downloading gevent-21.8.0-cp37-cp37m-manylinux_2_12_x86_64.manylinux2010_x86_64.whl (5.8 MB)\n",
            "\u001b[K     |████████████████████████████████| 5.8 MB 61.9 MB/s \n",
            "\u001b[?25hCollecting zope.interface\n",
            "  Downloading zope.interface-5.4.0-cp37-cp37m-manylinux2010_x86_64.whl (251 kB)\n",
            "\u001b[K     |████████████████████████████████| 251 kB 63.7 MB/s \n",
            "\u001b[?25hRequirement already satisfied: setuptools in /usr/local/lib/python3.7/dist-packages (from gevent->grequests->bioservices) (57.4.0)\n",
            "Requirement already satisfied: greenlet<2.0,>=1.1.0 in /usr/local/lib/python3.7/dist-packages (from gevent->grequests->bioservices) (1.1.2)\n",
            "Collecting zope.event\n",
            "  Downloading zope.event-4.5.0-py2.py3-none-any.whl (6.8 kB)\n",
            "Requirement already satisfied: numpy>=1.15.4 in /usr/local/lib/python3.7/dist-packages (from pandas->bioservices) (1.19.5)\n",
            "Requirement already satisfied: pytz>=2017.2 in /usr/local/lib/python3.7/dist-packages (from pandas->bioservices) (2018.9)\n",
            "Requirement already satisfied: python-dateutil>=2.7.3 in /usr/local/lib/python3.7/dist-packages (from pandas->bioservices) (2.8.2)\n",
            "Requirement already satisfied: six>=1.5 in /usr/local/lib/python3.7/dist-packages (from python-dateutil>=2.7.3->pandas->bioservices) (1.15.0)\n",
            "Requirement already satisfied: ptyprocess>=0.5 in /usr/local/lib/python3.7/dist-packages (from pexpect->easydev>=0.9.36->bioservices) (0.7.0)\n",
            "Requirement already satisfied: urllib3!=1.25.0,!=1.25.1,<1.26,>=1.21.1 in /usr/local/lib/python3.7/dist-packages (from requests->bioservices) (1.24.3)\n",
            "Requirement already satisfied: certifi>=2017.4.17 in /usr/local/lib/python3.7/dist-packages (from requests->bioservices) (2021.10.8)\n",
            "Requirement already satisfied: idna<3,>=2.5 in /usr/local/lib/python3.7/dist-packages (from requests->bioservices) (2.10)\n",
            "Requirement already satisfied: chardet<4,>=3.0.2 in /usr/local/lib/python3.7/dist-packages (from requests->bioservices) (3.0.4)\n",
            "Collecting url-normalize<2.0,>=1.4\n",
            "  Downloading url_normalize-1.4.3-py2.py3-none-any.whl (6.8 kB)\n",
            "Collecting cattrs<2.0,>=1.8\n",
            "  Downloading cattrs-1.9.0-py3-none-any.whl (25 kB)\n",
            "Collecting urllib3!=1.25.0,!=1.25.1,<1.26,>=1.21.1\n",
            "  Downloading urllib3-1.25.11-py2.py3-none-any.whl (127 kB)\n",
            "\u001b[K     |████████████████████████████████| 127 kB 52.3 MB/s \n",
            "\u001b[?25hRequirement already satisfied: attrs<22.0,>=21.2 in /usr/local/lib/python3.7/dist-packages (from requests_cache->bioservices) (21.2.0)\n",
            "Requirement already satisfied: typing_extensions in /usr/local/lib/python3.7/dist-packages (from cattrs<2.0,>=1.8->requests_cache->bioservices) (3.10.0.2)\n",
            "Building wheels for collected packages: bioservices, easydev\n",
            "  Building wheel for bioservices (setup.py) ... \u001b[?25l\u001b[?25hdone\n",
            "  Created wheel for bioservices: filename=bioservices-1.8.2-py3-none-any.whl size=229884 sha256=0037fbe50bf4a5f624288b14753d0c9a605f78eff69384a44f6a4029d595f5a5\n",
            "  Stored in directory: /root/.cache/pip/wheels/9a/6c/55/92a9a74a033c4979c8f8ee034a723882d316627ed28d3f80d8\n",
            "  Building wheel for easydev (setup.py) ... \u001b[?25l\u001b[?25hdone\n",
            "  Created wheel for easydev: filename=easydev-0.12.0-py3-none-any.whl size=64232 sha256=47d71d47f070d96be730afe98edfab1bfd1c06365aeffeb11f9ddc14717a6cc8\n",
            "  Stored in directory: /root/.cache/pip/wheels/82/ab/83/fdfc4017ea44a585b6754752cc5f63f2d0d63fcc1317e7174b\n",
            "Successfully built bioservices easydev\n",
            "Installing collected packages: zope.interface, zope.event, urllib3, url-normalize, gevent, colorlog, colorama, cattrs, xmltodict, suds-community, requests-cache, grequests, easydev, bioservices\n",
            "  Attempting uninstall: urllib3\n",
            "    Found existing installation: urllib3 1.24.3\n",
            "    Uninstalling urllib3-1.24.3:\n",
            "      Successfully uninstalled urllib3-1.24.3\n",
            "\u001b[31mERROR: pip's dependency resolver does not currently take into account all the packages that are installed. This behaviour is the source of the following dependency conflicts.\n",
            "datascience 0.10.6 requires folium==0.2.1, but you have folium 0.8.3 which is incompatible.\u001b[0m\n",
            "Successfully installed bioservices-1.8.2 cattrs-1.9.0 colorama-0.4.4 colorlog-6.6.0 easydev-0.12.0 gevent-21.8.0 grequests-0.6.0 requests-cache-0.8.1 suds-community-1.0.0 url-normalize-1.4.3 urllib3-1.25.11 xmltodict-0.12.0 zope.event-4.5.0 zope.interface-5.4.0\n"
          ]
        }
      ]
    },
    {
      "cell_type": "code",
      "metadata": {
        "colab": {
          "base_uri": "https://localhost:8080/"
        },
        "id": "AfOlJOHPQS7e",
        "outputId": "09c1973c-7caf-47aa-a3fd-1b65d67b8bf3"
      },
      "source": [
        "print(k.find(\"pathway\", \"glycolysis\"))"
      ],
      "execution_count": 13,
      "outputs": [
        {
          "output_type": "stream",
          "name": "stdout",
          "text": [
            "path:map00010\tGlycolysis / Gluconeogenesis\n",
            "\n"
          ]
        }
      ]
    }
  ]
}